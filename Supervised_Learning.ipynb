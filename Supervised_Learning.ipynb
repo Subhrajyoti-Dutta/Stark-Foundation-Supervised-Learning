{
  "nbformat": 4,
  "nbformat_minor": 0,
  "metadata": {
    "colab": {
      "name": "Supervised Learning.ipynb",
      "provenance": [],
      "collapsed_sections": [],
      "authorship_tag": "ABX9TyNMXsa7v/JkT9Kg+mJSCOkb",
      "include_colab_link": true
    },
    "kernelspec": {
      "name": "python3",
      "display_name": "Python 3"
    },
    "language_info": {
      "name": "python"
    }
  },
  "cells": [
    {
      "cell_type": "markdown",
      "metadata": {
        "id": "view-in-github",
        "colab_type": "text"
      },
      "source": [
        "<a href=\"https://colab.research.google.com/github/Subhrajyoti-Dutta/Stark-Foundation-Supervised-Learning/blob/main/Supervised_Learning.ipynb\" target=\"_parent\"><img src=\"https://colab.research.google.com/assets/colab-badge.svg\" alt=\"Open In Colab\"/></a>"
      ]
    },
    {
      "cell_type": "markdown",
      "metadata": {
        "id": "tUS8J8glQKnG"
      },
      "source": [
        "#Importing Libraries"
      ]
    },
    {
      "cell_type": "code",
      "metadata": {
        "id": "luYH3GtXGnUd"
      },
      "source": [
        "import pandas as pd\n",
        "import matplotlib.pyplot as plt\n",
        "import tensorflow as tf"
      ],
      "execution_count": 1,
      "outputs": []
    },
    {
      "cell_type": "markdown",
      "metadata": {
        "id": "bofBeD3zU617"
      },
      "source": [
        "#Loading the Dataset"
      ]
    },
    {
      "cell_type": "code",
      "metadata": {
        "id": "XRFPvm6AOnGK",
        "colab": {
          "base_uri": "https://localhost:8080/",
          "height": 204
        },
        "outputId": "beb51ccc-7d14-4594-9f45-f38435df94a3"
      },
      "source": [
        "dataset_url = r'http://bit.ly/w-data'\n",
        "data = pd.read_csv(dataset_url)\n",
        "data.tail()"
      ],
      "execution_count": 2,
      "outputs": [
        {
          "output_type": "execute_result",
          "data": {
            "text/html": [
              "<div>\n",
              "<style scoped>\n",
              "    .dataframe tbody tr th:only-of-type {\n",
              "        vertical-align: middle;\n",
              "    }\n",
              "\n",
              "    .dataframe tbody tr th {\n",
              "        vertical-align: top;\n",
              "    }\n",
              "\n",
              "    .dataframe thead th {\n",
              "        text-align: right;\n",
              "    }\n",
              "</style>\n",
              "<table border=\"1\" class=\"dataframe\">\n",
              "  <thead>\n",
              "    <tr style=\"text-align: right;\">\n",
              "      <th></th>\n",
              "      <th>Hours</th>\n",
              "      <th>Scores</th>\n",
              "    </tr>\n",
              "  </thead>\n",
              "  <tbody>\n",
              "    <tr>\n",
              "      <th>20</th>\n",
              "      <td>2.7</td>\n",
              "      <td>30</td>\n",
              "    </tr>\n",
              "    <tr>\n",
              "      <th>21</th>\n",
              "      <td>4.8</td>\n",
              "      <td>54</td>\n",
              "    </tr>\n",
              "    <tr>\n",
              "      <th>22</th>\n",
              "      <td>3.8</td>\n",
              "      <td>35</td>\n",
              "    </tr>\n",
              "    <tr>\n",
              "      <th>23</th>\n",
              "      <td>6.9</td>\n",
              "      <td>76</td>\n",
              "    </tr>\n",
              "    <tr>\n",
              "      <th>24</th>\n",
              "      <td>7.8</td>\n",
              "      <td>86</td>\n",
              "    </tr>\n",
              "  </tbody>\n",
              "</table>\n",
              "</div>"
            ],
            "text/plain": [
              "    Hours  Scores\n",
              "20    2.7      30\n",
              "21    4.8      54\n",
              "22    3.8      35\n",
              "23    6.9      76\n",
              "24    7.8      86"
            ]
          },
          "metadata": {
            "tags": []
          },
          "execution_count": 2
        }
      ]
    },
    {
      "cell_type": "code",
      "metadata": {
        "id": "XcFaqJnsO6Ui",
        "colab": {
          "base_uri": "https://localhost:8080/"
        },
        "outputId": "ace9c0c7-50f6-48ab-fd8a-7791fe05192d"
      },
      "source": [
        "X = data[['Hours']]\n",
        "Y = data[['Scores']]\n",
        "\n",
        "print(\"Shape of X: \",X.shape)\n",
        "print(\"Shape of Y: \",Y.shape)"
      ],
      "execution_count": 3,
      "outputs": [
        {
          "output_type": "stream",
          "text": [
            "Shape of X:  (25, 1)\n",
            "Shape of Y:  (25, 1)\n"
          ],
          "name": "stdout"
        }
      ]
    },
    {
      "cell_type": "markdown",
      "metadata": {
        "id": "m614mX5TX6mo"
      },
      "source": [
        "#Visualising the Data"
      ]
    },
    {
      "cell_type": "code",
      "metadata": {
        "colab": {
          "base_uri": "https://localhost:8080/",
          "height": 404
        },
        "id": "3VRLqEvFUxf6",
        "outputId": "cdd571f0-a545-4e71-c234-b2dbddaa89ae"
      },
      "source": [
        "plt.figure(figsize=(9,6))\n",
        "plt.scatter(X,Y)\n",
        "plt.xlabel('Study Hours')\n",
        "plt.ylabel('Percentage')\n",
        "plt.title('Dependence of Percentage on Study Hours')\n",
        "plt.grid()\n",
        "plt.show()"
      ],
      "execution_count": 4,
      "outputs": [
        {
          "output_type": "display_data",
          "data": {
            "image/png": "[encoded data removed]",
            "text/plain": [
              "<Figure size 648x432 with 1 Axes>"
            ]
          },
          "metadata": {
            "tags": [],
            "needs_background": "light"
          }
        }
      ]
    },
    {
      "cell_type": "markdown",
      "metadata": {
        "id": "bmpJncTOYApE"
      },
      "source": [
        "#Spliting the dataset in to training and test set"
      ]
    },
    {
      "cell_type": "markdown",
      "metadata": {
        "id": "O00s7i_wfsnL"
      },
      "source": [
        "Shuffle is a function to split the dataset into test and train set"
      ]
    },
    {
      "cell_type": "code",
      "metadata": {
        "id": "-efkVfwcL6G2"
      },
      "source": [
        "def shuffle(X,Y, test_size, random_state = None):\n",
        "    ds = pd.concat([X,Y],axis=1)\n",
        "    ds_shuffle = ds.sample(frac = 1, random_state=random_state).reset_index(drop=True)\n",
        "    n = int(ds_shuffle.shape[0]*(1-test_size))\n",
        "    X_train = ds_shuffle.iloc[ :n, :X.shape[1]].values\n",
        "    X_test  = ds_shuffle.iloc[n: , :X.shape[1]].values\n",
        "    Y_train = ds_shuffle.iloc[ :n,X.shape[1]: ].values\n",
        "    Y_test  = ds_shuffle.iloc[n: ,X.shape[1]: ].values\n",
        "    return X_train, X_test, Y_train, Y_test"
      ],
      "execution_count": 5,
      "outputs": []
    },
    {
      "cell_type": "code",
      "metadata": {
        "id": "fFDEu8v-LL6m"
      },
      "source": [
        "X_train, X_test, Y_train, Y_test = shuffle(X, Y, test_size = 0.2)"
      ],
      "execution_count": 6,
      "outputs": []
    },
    {
      "cell_type": "markdown",
      "metadata": {
        "id": "Prp6MNQsYKDO"
      },
      "source": [
        "#Building and Training the model"
      ]
    },
    {
      "cell_type": "code",
      "metadata": {
        "colab": {
          "base_uri": "https://localhost:8080/"
        },
        "id": "Z1XUxQkoPaFh",
        "outputId": "66e786c4-94b5-4460-ae1b-501ffa2dd1dc"
      },
      "source": [
        "model = tf.keras.Sequential()\n",
        "model.add(\n",
        "    tf.keras.layers.Dense(units=1, activation = None, input_shape=[1])\n",
        ")\n",
        "model.summary()"
      ],
      "execution_count": 7,
      "outputs": [
        {
          "output_type": "stream",
          "text": [
            "Model: \"sequential\"\n",
            "_________________________________________________________________\n",
            "Layer (type)                 Output Shape              Param #   \n",
            "=================================================================\n",
            "dense (Dense)                (None, 1)                 2         \n",
            "=================================================================\n",
            "Total params: 2\n",
            "Trainable params: 2\n",
            "Non-trainable params: 0\n",
            "_________________________________________________________________\n"
          ],
          "name": "stdout"
        }
      ]
    },
    {
      "cell_type": "code",
      "metadata": {
        "id": "BtpFazihUEAS"
      },
      "source": [
        "model.compile(optimizer='sgd', loss='mean_squared_error')"
      ],
      "execution_count": 8,
      "outputs": []
    },
    {
      "cell_type": "code",
      "metadata": {
        "colab": {
          "base_uri": "https://localhost:8080/"
        },
        "id": "v2ffYHxzTy7S",
        "outputId": "46cee981-3305-4837-e33b-c485b093c495"
      },
      "source": [
        "model.fit(X_train, Y_train, epochs = 100, verbose = 0)"
      ],
      "execution_count": 9,
      "outputs": [
        {
          "output_type": "execute_result",
          "data": {
            "text/plain": [
              "<tensorflow.python.keras.callbacks.History at 0x7f43ee840210>"
            ]
          },
          "metadata": {
            "tags": []
          },
          "execution_count": 9
        }
      ]
    },
    {
      "cell_type": "markdown",
      "metadata": {
        "id": "uXkYoUU8YaTt"
      },
      "source": [
        "#Visualising the Regression Line"
      ]
    },
    {
      "cell_type": "code",
      "metadata": {
        "colab": {
          "base_uri": "https://localhost:8080/",
          "height": 404
        },
        "id": "Ezmhxtr7WIoh",
        "outputId": "bc1c19cd-5bd9-4eed-f21a-4c0c312f9fbb"
      },
      "source": [
        "line = model.predict(X)\n",
        "\n",
        "plt.figure(figsize=(9,6))\n",
        "plt.scatter(X,Y)\n",
        "plt.xlabel('Study Hours')\n",
        "plt.ylabel('Percentage')\n",
        "plt.title('Dependence of Percentage on Study Hours')\n",
        "plt.plot(X,line)\n",
        "plt.legend(['Regression Line','Values'])\n",
        "plt.show()"
      ],
      "execution_count": 10,
      "outputs": [
        {
          "output_type": "display_data",
          "data": {
            "image/png": "[encoded data removed]",
            "text/plain": [
              "<Figure size 648x432 with 1 Axes>"
            ]
          },
          "metadata": {
            "tags": [],
            "needs_background": "light"
          }
        }
      ]
    },
    {
      "cell_type": "markdown",
      "metadata": {
        "id": "hYbfkmKLYRd4"
      },
      "source": [
        "#Predicting Output using the Model"
      ]
    },
    {
      "cell_type": "code",
      "metadata": {
        "id": "9e2krDhLWPWt",
        "colab": {
          "base_uri": "https://localhost:8080/"
        },
        "outputId": "eb8825ae-cc77-4ad6-bd45-9fd0e7aed012"
      },
      "source": [
        "Y_pred  = model.predict(X_test)\n",
        "Y_pred"
      ],
      "execution_count": 11,
      "outputs": [
        {
          "output_type": "execute_result",
          "data": {
            "text/plain": [
              "array([[45.94332 ],\n",
              "       [69.28386 ],\n",
              "       [59.558636],\n",
              "       [88.7343  ],\n",
              "       [82.89918 ]], dtype=float32)"
            ]
          },
          "metadata": {
            "tags": []
          },
          "execution_count": 11
        }
      ]
    },
    {
      "cell_type": "markdown",
      "metadata": {
        "id": "OGnNNKXxX3Fb"
      },
      "source": [
        "#Comparing the predicted value with the actual value"
      ]
    },
    {
      "cell_type": "code",
      "metadata": {
        "colab": {
          "base_uri": "https://localhost:8080/",
          "height": 204
        },
        "id": "Yk6vHa6e86u5",
        "outputId": "35450215-7090-423e-9b7a-b9ff9b596587"
      },
      "source": [
        "pd.DataFrame({'Hours': X_test[:,0],\n",
        "              'Actual Percentage': Y_test[:,0],\n",
        "              'Predicted Percentage': Y_pred[:,0]})"
      ],
      "execution_count": 12,
      "outputs": [
        {
          "output_type": "execute_result",
          "data": {
            "text/html": [
              "<div>\n",
              "<style scoped>\n",
              "    .dataframe tbody tr th:only-of-type {\n",
              "        vertical-align: middle;\n",
              "    }\n",
              "\n",
              "    .dataframe tbody tr th {\n",
              "        vertical-align: top;\n",
              "    }\n",
              "\n",
              "    .dataframe thead th {\n",
              "        text-align: right;\n",
              "    }\n",
              "</style>\n",
              "<table border=\"1\" class=\"dataframe\">\n",
              "  <thead>\n",
              "    <tr style=\"text-align: right;\">\n",
              "      <th></th>\n",
              "      <th>Hours</th>\n",
              "      <th>Actual Percentage</th>\n",
              "      <th>Predicted Percentage</th>\n",
              "    </tr>\n",
              "  </thead>\n",
              "  <tbody>\n",
              "    <tr>\n",
              "      <th>0</th>\n",
              "      <td>4.5</td>\n",
              "      <td>41</td>\n",
              "      <td>45.943321</td>\n",
              "    </tr>\n",
              "    <tr>\n",
              "      <th>1</th>\n",
              "      <td>6.9</td>\n",
              "      <td>76</td>\n",
              "      <td>69.283859</td>\n",
              "    </tr>\n",
              "    <tr>\n",
              "      <th>2</th>\n",
              "      <td>5.9</td>\n",
              "      <td>62</td>\n",
              "      <td>59.558636</td>\n",
              "    </tr>\n",
              "    <tr>\n",
              "      <th>3</th>\n",
              "      <td>8.9</td>\n",
              "      <td>95</td>\n",
              "      <td>88.734299</td>\n",
              "    </tr>\n",
              "    <tr>\n",
              "      <th>4</th>\n",
              "      <td>8.3</td>\n",
              "      <td>81</td>\n",
              "      <td>82.899178</td>\n",
              "    </tr>\n",
              "  </tbody>\n",
              "</table>\n",
              "</div>"
            ],
            "text/plain": [
              "   Hours  Actual Percentage  Predicted Percentage\n",
              "0    4.5                 41             45.943321\n",
              "1    6.9                 76             69.283859\n",
              "2    5.9                 62             59.558636\n",
              "3    8.9                 95             88.734299\n",
              "4    8.3                 81             82.899178"
            ]
          },
          "metadata": {
            "tags": []
          },
          "execution_count": 12
        }
      ]
    },
    {
      "cell_type": "markdown",
      "metadata": {
        "id": "EV-TjKXfYm0C"
      },
      "source": [
        "#Predicting the Percentage of the student who studies for 9.25 hours"
      ]
    },
    {
      "cell_type": "code",
      "metadata": {
        "colab": {
          "base_uri": "https://localhost:8080/"
        },
        "id": "7gx3Wq1LPzmm",
        "outputId": "42122bbd-edfc-4ffe-da13-4ef8169fc6c4"
      },
      "source": [
        "model.predict([[9.25]])"
      ],
      "execution_count": 14,
      "outputs": [
        {
          "output_type": "execute_result",
          "data": {
            "text/plain": [
              "array([[92.13813]], dtype=float32)"
            ]
          },
          "metadata": {
            "tags": []
          },
          "execution_count": 14
        }
      ]
    },
    {
      "cell_type": "markdown",
      "metadata": {
        "id": "pwzGGTKHfeJN"
      },
      "source": [
        "#Evaluating the Model"
      ]
    },
    {
      "cell_type": "code",
      "metadata": {
        "id": "VXLnpAl1Fdj6",
        "colab": {
          "base_uri": "https://localhost:8080/"
        },
        "outputId": "2aeba6da-bab2-41b1-f1c1-0fa9b6df7ecb"
      },
      "source": [
        "MAE = tf.keras.losses.MeanAbsoluteError()\n",
        "print('Mean Absolute Error: ',MAE(Y_test, Y_pred).numpy())"
      ],
      "execution_count": 15,
      "outputs": [
        {
          "output_type": "stream",
          "text": [
            "Mean Absolute Error:  4.453141\n"
          ],
          "name": "stdout"
        }
      ]
    }
  ]
}